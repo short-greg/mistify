{
 "cells": [
  {
   "cell_type": "code",
   "execution_count": 1,
   "metadata": {},
   "outputs": [],
   "source": [
    "import initialize\n",
    "from mistify import _functional as F\n",
    "import torch\n",
    "import typing\n",
    "import torch.nn as nn\n",
    "from torch.utils import data as torch_data\n",
    "from zenkai.utils import apply_to_parameters\n",
    "\n",
    "from mistify.learn import WrapNeuron, MaxMinRelOut\n",
    "from mistify import OrF, MulG\n",
    "from mistify.infer import Or, Inter, UnionOn\n",
    "import numpy as np\n",
    "import tqdm"
   ]
  },
  {
   "cell_type": "code",
   "execution_count": 4,
   "metadata": {},
   "outputs": [],
   "source": [
    "def create_input_dataset1(shape, dropout_p: bool=0.5, exp: float=1.0, require_grad: bool=False):\n",
    "\n",
    "    data = torch.rand(*shape) ** exp\n",
    "    data = data * (torch.rand(shape) >= dropout_p)\n",
    "    if require_grad:\n",
    "        data.requires_grad_()\n",
    "        data.retain_grad()\n",
    "    return data\n",
    "\n"
   ]
  },
  {
   "cell_type": "code",
   "execution_count": 5,
   "metadata": {},
   "outputs": [],
   "source": [
    "\n",
    "def epoch_str(epoch, n_epochs):\n",
    "    return f'Epoch {epoch + 1}/{n_epochs}'\n",
    "\n",
    "\n",
    "def optim(net: nn.Module, X: torch.Tensor, T: torch.Tensor, n_epochs: int=10, batch_size: int=128, epoch_callback=None):\n",
    "\n",
    "    dataset = torch_data.TensorDataset(X, T)\n",
    "    optim = torch.optim.Adam(net.parameters(), lr=1e-3)\n",
    "\n",
    "    with tqdm.tqdm(total=n_epochs) as pbar:\n",
    "        for _ in range(n_epochs):\n",
    "            epoch_loss = []\n",
    "\n",
    "            for x_i, t_i in torch_data.DataLoader(dataset, shuffle=True, batch_size=batch_size):\n",
    "                optim.zero_grad()\n",
    "                y_i = net(x_i)\n",
    "                loss = (y_i - t_i).pow(2).mean()\n",
    "                loss.backward()\n",
    "                # print('Grad: ', p[0].grad.abs().sum().item(), p[1].grad.abs().sum().item(), loss.item())\n",
    "                optim.step()\n",
    "                apply_to_parameters(\n",
    "                    net.parameters(), lambda x: torch.clamp(x, 0.0, 1.0)\n",
    "                )\n",
    "                epoch_loss.append(loss.item())\n",
    "            if epoch_callback is not None:\n",
    "                epoch_callback()\n",
    "            pbar.update(1)\n",
    "            # pbar.reset()\n",
    "            # pbar.set_description(epoch_str(0, n_epochs))\n",
    "            pbar.set_postfix({'loss': np.mean(epoch_loss)}, refresh=True)\n",
    "            # print(np.mean(epoch_loss))\n"
   ]
  },
  {
   "cell_type": "code",
   "execution_count": 3,
   "metadata": {},
   "outputs": [
    {
     "ename": "NameError",
     "evalue": "name 'optim' is not defined",
     "output_type": "error",
     "traceback": [
      "\u001b[0;31m---------------------------------------------------------------------------\u001b[0m",
      "\u001b[0;31mNameError\u001b[0m                                 Traceback (most recent call last)",
      "Input \u001b[0;32mIn [3]\u001b[0m, in \u001b[0;36m<cell line: 10>\u001b[0;34m()\u001b[0m\n\u001b[1;32m      5\u001b[0m T \u001b[38;5;241m=\u001b[39m base(X)\u001b[38;5;241m.\u001b[39mdetach()\n\u001b[1;32m      8\u001b[0m or_ \u001b[38;5;241m=\u001b[39m Or(\u001b[38;5;241m16\u001b[39m, \u001b[38;5;241m8\u001b[39m, f\u001b[38;5;241m=\u001b[39mf)\n\u001b[0;32m---> 10\u001b[0m \u001b[43moptim\u001b[49m(or_, X, T, n_epochs\u001b[38;5;241m=\u001b[39m\u001b[38;5;241m1000\u001b[39m)\n\u001b[1;32m     11\u001b[0m or_\u001b[38;5;241m.\u001b[39mf \u001b[38;5;241m=\u001b[39m OrF(\u001b[38;5;124m'\u001b[39m\u001b[38;5;124mstd\u001b[39m\u001b[38;5;124m'\u001b[39m, \u001b[38;5;124m'\u001b[39m\u001b[38;5;124mstd\u001b[39m\u001b[38;5;124m'\u001b[39m)\n\u001b[1;32m     12\u001b[0m optim(or_, X, T, n_epochs\u001b[38;5;241m=\u001b[39m\u001b[38;5;241m1000\u001b[39m)\n",
      "\u001b[0;31mNameError\u001b[0m: name 'optim' is not defined"
     ]
    }
   ],
   "source": [
    "\n",
    "\n",
    "\n",
    "f = WrapNeuron(OrF('std', 'std'), MaxMinRelOut())\n",
    "\n",
    "base = Or(16, 8)\n",
    "X = torch.rand(1000, 16)\n",
    "T = base(X).detach()\n",
    "\n",
    "\n",
    "or_ = Or(16, 8, f=f)\n",
    "\n",
    "optim(or_, X, T, n_epochs=1000)\n",
    "or_.f = OrF('std', 'std')\n",
    "optim(or_, X, T, n_epochs=1000)\n"
   ]
  },
  {
   "cell_type": "code",
   "execution_count": 2,
   "metadata": {},
   "outputs": [
    {
     "ename": "NameError",
     "evalue": "name 'optim' is not defined",
     "output_type": "error",
     "traceback": [
      "\u001b[0;31m---------------------------------------------------------------------------\u001b[0m",
      "\u001b[0;31mNameError\u001b[0m                                 Traceback (most recent call last)",
      "Input \u001b[0;32mIn [2]\u001b[0m, in \u001b[0;36m<cell line: 36>\u001b[0;34m()\u001b[0m\n\u001b[1;32m     33\u001b[0m     net\u001b[38;5;241m.\u001b[39mf\u001b[38;5;241m.\u001b[39mx_weight \u001b[38;5;241m=\u001b[39m \u001b[38;5;241m0.05\u001b[39m \u001b[38;5;28;01mif\u001b[39;00m weight_x \u001b[38;5;129;01mis\u001b[39;00m \u001b[38;5;28;01mTrue\u001b[39;00m \u001b[38;5;28;01melse\u001b[39;00m \u001b[38;5;241m0.0\u001b[39m\n\u001b[1;32m     34\u001b[0m     net\u001b[38;5;241m.\u001b[39mf\u001b[38;5;241m.\u001b[39mw_weight \u001b[38;5;241m=\u001b[39m \u001b[38;5;241m0.05\u001b[39m \u001b[38;5;28;01mif\u001b[39;00m weight_x \u001b[38;5;129;01mis\u001b[39;00m \u001b[38;5;28;01mFalse\u001b[39;00m \u001b[38;5;28;01melse\u001b[39;00m \u001b[38;5;241m0.0\u001b[39m\n\u001b[0;32m---> 36\u001b[0m \u001b[43moptim\u001b[49m(net, X, T, n_epochs\u001b[38;5;241m=\u001b[39m\u001b[38;5;241m500\u001b[39m, epoch_callback\u001b[38;5;241m=\u001b[39mcallback)\n",
      "\u001b[0;31mNameError\u001b[0m: name 'optim' is not defined"
     ]
    }
   ],
   "source": [
    "\n",
    "\n",
    "torch.manual_seed(1)\n",
    "\n",
    "base = Or(16, 8)\n",
    "\n",
    "base = nn.Linear(16, 8)\n",
    "X = torch.rand(4000, 16)\n",
    "T = torch.sigmoid(base(X)).detach()\n",
    "\n",
    "class Net(nn.Module):\n",
    "\n",
    "    def __init__(self):\n",
    "        super().__init__()\n",
    "        self.f = WrapNeuron(OrF('std', 'std'), MaxMinRelOut())\n",
    "        self.f = OrF('std', 'std')\n",
    "        # self.f2 = WrapNeuron(OrF('std', 'std'), MaxMinRelOut())\n",
    "        self.or1 = Or(16, 16, f=self.f)\n",
    "        self.or2 = Or(16, 8, f=self.f) # OrF('std', 'std'))\n",
    "\n",
    "    def set_f(self, f):\n",
    "        self.or1.f = f\n",
    "        self.or2.f = f\n",
    "    \n",
    "    def forward(self, x):\n",
    "\n",
    "        return self.or2(self.or1(x))\n",
    "\n",
    "net = Net()\n",
    "\n",
    "weight_x = True\n",
    "net.f.x_weight = 0.05\n",
    "net.f.w_weight = 0.05\n",
    "def callback():\n",
    "    net.f.x_weight = 0.05 if weight_x is True else 0.0\n",
    "    net.f.w_weight = 0.05 if weight_x is False else 0.0\n",
    "\n",
    "optim(net, X, T, n_epochs=500, epoch_callback=callback)\n",
    "\n",
    "# net.set_f(OrF('std', 'std'))\n",
    "# # or_.f = \n",
    "# optim(net, X, T, n_epochs=500)\n",
    "# net.set_f(f)\n",
    "# optim(net, X, T, n_epochs=500)\n"
   ]
  },
  {
   "cell_type": "code",
   "execution_count": 9,
   "metadata": {},
   "outputs": [
    {
     "name": "stderr",
     "output_type": "stream",
     "text": [
      " 57%|█████▋    | 286/500 [00:37<00:27,  7.69it/s, loss=0.00131]\n"
     ]
    },
    {
     "ename": "KeyboardInterrupt",
     "evalue": "",
     "output_type": "error",
     "traceback": [
      "\u001b[0;31m---------------------------------------------------------------------------\u001b[0m",
      "\u001b[0;31mKeyboardInterrupt\u001b[0m                         Traceback (most recent call last)",
      "Input \u001b[0;32mIn [9]\u001b[0m, in \u001b[0;36m<cell line: 40>\u001b[0;34m()\u001b[0m\n\u001b[1;32m     37\u001b[0m     net\u001b[38;5;241m.\u001b[39mf\u001b[38;5;241m.\u001b[39mx_weight \u001b[38;5;241m=\u001b[39m \u001b[38;5;241m0.05\u001b[39m \u001b[38;5;28;01mif\u001b[39;00m weight_x \u001b[38;5;129;01mis\u001b[39;00m \u001b[38;5;28;01mTrue\u001b[39;00m \u001b[38;5;28;01melse\u001b[39;00m \u001b[38;5;241m0.0\u001b[39m\n\u001b[1;32m     38\u001b[0m     net\u001b[38;5;241m.\u001b[39mf\u001b[38;5;241m.\u001b[39mw_weight \u001b[38;5;241m=\u001b[39m \u001b[38;5;241m0.05\u001b[39m \u001b[38;5;28;01mif\u001b[39;00m weight_x \u001b[38;5;129;01mis\u001b[39;00m \u001b[38;5;28;01mFalse\u001b[39;00m \u001b[38;5;28;01melse\u001b[39;00m \u001b[38;5;241m0.0\u001b[39m\n\u001b[0;32m---> 40\u001b[0m \u001b[43moptim\u001b[49m\u001b[43m(\u001b[49m\u001b[43mnet\u001b[49m\u001b[43m,\u001b[49m\u001b[43m \u001b[49m\u001b[43mX\u001b[49m\u001b[43m,\u001b[49m\u001b[43m \u001b[49m\u001b[43mT\u001b[49m\u001b[43m,\u001b[49m\u001b[43m \u001b[49m\u001b[43mn_epochs\u001b[49m\u001b[38;5;241;43m=\u001b[39;49m\u001b[38;5;241;43m500\u001b[39;49m\u001b[43m)\u001b[49m\n",
      "Input \u001b[0;32mIn [5]\u001b[0m, in \u001b[0;36moptim\u001b[0;34m(net, X, T, n_epochs, batch_size, epoch_callback)\u001b[0m\n\u001b[1;32m     16\u001b[0m y_i \u001b[38;5;241m=\u001b[39m net(x_i)\n\u001b[1;32m     17\u001b[0m loss \u001b[38;5;241m=\u001b[39m (y_i \u001b[38;5;241m-\u001b[39m t_i)\u001b[38;5;241m.\u001b[39mpow(\u001b[38;5;241m2\u001b[39m)\u001b[38;5;241m.\u001b[39mmean()\n\u001b[0;32m---> 18\u001b[0m \u001b[43mloss\u001b[49m\u001b[38;5;241;43m.\u001b[39;49m\u001b[43mbackward\u001b[49m\u001b[43m(\u001b[49m\u001b[43m)\u001b[49m\n\u001b[1;32m     19\u001b[0m \u001b[38;5;66;03m# print('Grad: ', p[0].grad.abs().sum().item(), p[1].grad.abs().sum().item(), loss.item())\u001b[39;00m\n\u001b[1;32m     20\u001b[0m optim\u001b[38;5;241m.\u001b[39mstep()\n",
      "File \u001b[0;32m/opt/miniconda3/envs/py310torch/lib/python3.10/site-packages/torch/_tensor.py:363\u001b[0m, in \u001b[0;36mTensor.backward\u001b[0;34m(self, gradient, retain_graph, create_graph, inputs)\u001b[0m\n\u001b[1;32m    354\u001b[0m \u001b[38;5;28;01mif\u001b[39;00m has_torch_function_unary(\u001b[38;5;28mself\u001b[39m):\n\u001b[1;32m    355\u001b[0m     \u001b[38;5;28;01mreturn\u001b[39;00m handle_torch_function(\n\u001b[1;32m    356\u001b[0m         Tensor\u001b[38;5;241m.\u001b[39mbackward,\n\u001b[1;32m    357\u001b[0m         (\u001b[38;5;28mself\u001b[39m,),\n\u001b[0;32m   (...)\u001b[0m\n\u001b[1;32m    361\u001b[0m         create_graph\u001b[38;5;241m=\u001b[39mcreate_graph,\n\u001b[1;32m    362\u001b[0m         inputs\u001b[38;5;241m=\u001b[39minputs)\n\u001b[0;32m--> 363\u001b[0m \u001b[43mtorch\u001b[49m\u001b[38;5;241;43m.\u001b[39;49m\u001b[43mautograd\u001b[49m\u001b[38;5;241;43m.\u001b[39;49m\u001b[43mbackward\u001b[49m\u001b[43m(\u001b[49m\u001b[38;5;28;43mself\u001b[39;49m\u001b[43m,\u001b[49m\u001b[43m \u001b[49m\u001b[43mgradient\u001b[49m\u001b[43m,\u001b[49m\u001b[43m \u001b[49m\u001b[43mretain_graph\u001b[49m\u001b[43m,\u001b[49m\u001b[43m \u001b[49m\u001b[43mcreate_graph\u001b[49m\u001b[43m,\u001b[49m\u001b[43m \u001b[49m\u001b[43minputs\u001b[49m\u001b[38;5;241;43m=\u001b[39;49m\u001b[43minputs\u001b[49m\u001b[43m)\u001b[49m\n",
      "File \u001b[0;32m/opt/miniconda3/envs/py310torch/lib/python3.10/site-packages/torch/autograd/__init__.py:173\u001b[0m, in \u001b[0;36mbackward\u001b[0;34m(tensors, grad_tensors, retain_graph, create_graph, grad_variables, inputs)\u001b[0m\n\u001b[1;32m    168\u001b[0m     retain_graph \u001b[38;5;241m=\u001b[39m create_graph\n\u001b[1;32m    170\u001b[0m \u001b[38;5;66;03m# The reason we repeat same the comment below is that\u001b[39;00m\n\u001b[1;32m    171\u001b[0m \u001b[38;5;66;03m# some Python versions print out the first line of a multi-line function\u001b[39;00m\n\u001b[1;32m    172\u001b[0m \u001b[38;5;66;03m# calls in the traceback and some print out the last line\u001b[39;00m\n\u001b[0;32m--> 173\u001b[0m \u001b[43mVariable\u001b[49m\u001b[38;5;241;43m.\u001b[39;49m\u001b[43m_execution_engine\u001b[49m\u001b[38;5;241;43m.\u001b[39;49m\u001b[43mrun_backward\u001b[49m\u001b[43m(\u001b[49m\u001b[43m  \u001b[49m\u001b[38;5;66;43;03m# Calls into the C++ engine to run the backward pass\u001b[39;49;00m\n\u001b[1;32m    174\u001b[0m \u001b[43m    \u001b[49m\u001b[43mtensors\u001b[49m\u001b[43m,\u001b[49m\u001b[43m \u001b[49m\u001b[43mgrad_tensors_\u001b[49m\u001b[43m,\u001b[49m\u001b[43m \u001b[49m\u001b[43mretain_graph\u001b[49m\u001b[43m,\u001b[49m\u001b[43m \u001b[49m\u001b[43mcreate_graph\u001b[49m\u001b[43m,\u001b[49m\u001b[43m \u001b[49m\u001b[43minputs\u001b[49m\u001b[43m,\u001b[49m\n\u001b[1;32m    175\u001b[0m \u001b[43m    \u001b[49m\u001b[43mallow_unreachable\u001b[49m\u001b[38;5;241;43m=\u001b[39;49m\u001b[38;5;28;43;01mTrue\u001b[39;49;00m\u001b[43m,\u001b[49m\u001b[43m \u001b[49m\u001b[43maccumulate_grad\u001b[49m\u001b[38;5;241;43m=\u001b[39;49m\u001b[38;5;28;43;01mTrue\u001b[39;49;00m\u001b[43m)\u001b[49m\n",
      "File \u001b[0;32m/opt/miniconda3/envs/py310torch/lib/python3.10/site-packages/torch/autograd/function.py:253\u001b[0m, in \u001b[0;36mBackwardCFunction.apply\u001b[0;34m(self, *args)\u001b[0m\n\u001b[1;32m    249\u001b[0m     \u001b[38;5;28;01mraise\u001b[39;00m \u001b[38;5;167;01mRuntimeError\u001b[39;00m(\u001b[38;5;124m\"\u001b[39m\u001b[38;5;124mImplementing both \u001b[39m\u001b[38;5;124m'\u001b[39m\u001b[38;5;124mbackward\u001b[39m\u001b[38;5;124m'\u001b[39m\u001b[38;5;124m and \u001b[39m\u001b[38;5;124m'\u001b[39m\u001b[38;5;124mvjp\u001b[39m\u001b[38;5;124m'\u001b[39m\u001b[38;5;124m for a custom \u001b[39m\u001b[38;5;124m\"\u001b[39m\n\u001b[1;32m    250\u001b[0m                        \u001b[38;5;124m\"\u001b[39m\u001b[38;5;124mFunction is not allowed. You should only implement one \u001b[39m\u001b[38;5;124m\"\u001b[39m\n\u001b[1;32m    251\u001b[0m                        \u001b[38;5;124m\"\u001b[39m\u001b[38;5;124mof them.\u001b[39m\u001b[38;5;124m\"\u001b[39m)\n\u001b[1;32m    252\u001b[0m user_fn \u001b[38;5;241m=\u001b[39m vjp_fn \u001b[38;5;28;01mif\u001b[39;00m vjp_fn \u001b[38;5;129;01mis\u001b[39;00m \u001b[38;5;129;01mnot\u001b[39;00m Function\u001b[38;5;241m.\u001b[39mvjp \u001b[38;5;28;01melse\u001b[39;00m backward_fn\n\u001b[0;32m--> 253\u001b[0m \u001b[38;5;28;01mreturn\u001b[39;00m \u001b[43muser_fn\u001b[49m\u001b[43m(\u001b[49m\u001b[38;5;28;43mself\u001b[39;49m\u001b[43m,\u001b[49m\u001b[43m \u001b[49m\u001b[38;5;241;43m*\u001b[39;49m\u001b[43margs\u001b[49m\u001b[43m)\u001b[49m\n",
      "File \u001b[0;32m~/Development/mistify/mistify/_functional/_grad.py:322\u001b[0m, in \u001b[0;36mMinG.backward\u001b[0;34m(ctx, grad_output)\u001b[0m\n\u001b[1;32m    319\u001b[0m \u001b[38;5;28;01mif\u001b[39;00m ctx\u001b[38;5;241m.\u001b[39mg \u001b[38;5;129;01mis\u001b[39;00m \u001b[38;5;129;01mnot\u001b[39;00m \u001b[38;5;28;01mNone\u001b[39;00m:\n\u001b[1;32m    320\u001b[0m     condition \u001b[38;5;241m=\u001b[39m (x2 \u001b[38;5;241m>\u001b[39m x1)\n\u001b[1;32m    321\u001b[0m     x2_grad[condition] \u001b[38;5;241m=\u001b[39m (\n\u001b[0;32m--> 322\u001b[0m         \u001b[38;5;241m-\u001b[39m\u001b[43mtorch\u001b[49m\u001b[38;5;241;43m.\u001b[39;49m\u001b[43mrelu\u001b[49m\u001b[43m(\u001b[49m\u001b[43mt\u001b[49m\u001b[43m \u001b[49m\u001b[38;5;241;43m-\u001b[39;49m\u001b[43m \u001b[49m\u001b[43mx2\u001b[49m\u001b[43m)\u001b[49m\n\u001b[1;32m    323\u001b[0m         \u001b[38;5;241m+\u001b[39m torch\u001b[38;5;241m.\u001b[39mrelu(x1 \u001b[38;5;241m-\u001b[39m t)\n\u001b[1;32m    324\u001b[0m     )[condition]\n\u001b[1;32m    325\u001b[0m     \u001b[38;5;66;03m# condition2 = (x2 > x1) & (x2 > t)\u001b[39;00m\n\u001b[1;32m    326\u001b[0m     \u001b[38;5;66;03m# x2_grad[condition2] = torch.min(abs_grad, torch.relu(x2 - t))[condition2]\u001b[39;00m\n\u001b[1;32m    327\u001b[0m     x2_grad \u001b[38;5;241m=\u001b[39m ctx\u001b[38;5;241m.\u001b[39mg(x2, x2_grad, condition)\n",
      "\u001b[0;31mKeyboardInterrupt\u001b[0m: "
     ]
    }
   ],
   "source": [
    "\n",
    "# test g\n",
    "torch.manual_seed(1)\n",
    "\n",
    "\n",
    "base = nn.Linear(16, 8)\n",
    "X = torch.rand(4000, 16)\n",
    "T = torch.sigmoid(base(X)).detach()\n",
    "\n",
    "class Net(nn.Module):\n",
    "\n",
    "    def __init__(self):\n",
    "        super().__init__()\n",
    "        # self.f = WrapNeuron(OrF('std', 'std'), MaxMinRelOut())\n",
    "        # self.f = OrF('std', 'std')\n",
    "        # self.f2 = WrapNeuron(OrF('std', 'std'), MaxMinRelOut())\n",
    "        self.or1 = Or(16, 16, f=(\n",
    "            Inter(MulG(0.05)), UnionOn(MulG(0.001))\n",
    "        ))\n",
    "        self.or2 = Or(16, 8, f=(\n",
    "            Inter(MulG(0.05)), UnionOn(MulG(0.001))\n",
    "        )) # OrF('std', 'std'))\n",
    "\n",
    "    def set_f(self, f):\n",
    "        self.or1.f = f\n",
    "        self.or2.f = f\n",
    "    \n",
    "    def forward(self, x):\n",
    "\n",
    "        return self.or2(self.or1(x))\n",
    "\n",
    "net = Net()\n",
    "\n",
    "weight_x = True\n",
    "# net.f.x_weight = 0.05\n",
    "# net.f.w_weight = 0.05\n",
    "def callback():\n",
    "    net.f.x_weight = 0.05 if weight_x is True else 0.0\n",
    "    net.f.w_weight = 0.05 if weight_x is False else 0.0\n",
    "\n",
    "optim(net, X, T, n_epochs=500)"
   ]
  }
 ],
 "metadata": {
  "kernelspec": {
   "display_name": "py310torch",
   "language": "python",
   "name": "python3"
  },
  "language_info": {
   "codemirror_mode": {
    "name": "ipython",
    "version": 3
   },
   "file_extension": ".py",
   "mimetype": "text/x-python",
   "name": "python",
   "nbconvert_exporter": "python",
   "pygments_lexer": "ipython3",
   "version": "3.10.5"
  }
 },
 "nbformat": 4,
 "nbformat_minor": 2
}
