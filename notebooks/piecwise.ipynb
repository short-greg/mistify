{
 "cells": [
  {
   "cell_type": "code",
   "execution_count": 1,
   "metadata": {},
   "outputs": [],
   "source": [
    "import initialize"
   ]
  },
  {
   "cell_type": "code",
   "execution_count": 2,
   "metadata": {},
   "outputs": [],
   "source": [
    "from mistify.process import Piecewise\n",
    "import torch\n",
    "import tqdm\n",
    "import numpy as np\n",
    "import matplotlib.pyplot as plt"
   ]
  },
  {
   "cell_type": "code",
   "execution_count": 17,
   "metadata": {},
   "outputs": [
    {
     "name": "stderr",
     "output_type": "stream",
     "text": [
      "100%|██████████| 5000/5000 [00:06<00:00, 788.10it/s, Loss=32.1]\n"
     ]
    }
   ],
   "source": [
    "piecwise = Piecewise.linspace(10, 1, lower_x=0, upper_x=1, tunable_y=True, tunable_x=True)\n",
    "\n",
    "x = torch.rand(300, 1) * 4 - 2\n",
    "t = (x ** 4).detach()\n",
    "\n",
    "n = 5000\n",
    "optim = torch.optim.Adam(piecwise.parameters(), lr=1e-1)\n",
    "losses = []\n",
    "with tqdm.tqdm(total=n) as pbar:\n",
    "\n",
    "    for i in range(n):\n",
    "        optim.zero_grad()\n",
    "        y = piecwise(x)\n",
    "        loss = (y - t).pow(2).mean()\n",
    "        losses.append(loss.item())\n",
    "        loss.backward()\n",
    "        optim.step()\n",
    "        pbar.set_postfix({'Loss': np.mean(losses[-30:])})\n",
    "        pbar.update(1)\n"
   ]
  },
  {
   "cell_type": "code",
   "execution_count": 20,
   "metadata": {},
   "outputs": [
    {
     "data": {
      "image/png": "[encoded data removed]",
      "text/plain": [
       "<Figure size 432x288 with 1 Axes>"
      ]
     },
     "metadata": {
      "needs_background": "light"
     },
     "output_type": "display_data"
    }
   ],
   "source": [
    "\n",
    "x = torch.linspace(0, 1, steps=200)[:,None]\n",
    "t = x ** 4\n",
    "# piecwise = Piecewise.linspace(10, 1, tunable_y=True)\n",
    "\n",
    "y = piecwise(x)\n",
    "\n",
    "plt.scatter(y.detach().numpy(), t.detach().numpy())\n",
    "\n",
    "# Add title and labels\n",
    "plt.title('Scatter Plot of X and Y')\n",
    "plt.xlabel('Y values')\n",
    "plt.ylabel('T values')\n",
    "\n",
    "# Show the plot\n",
    "plt.show()"
   ]
  }
 ],
 "metadata": {
  "kernelspec": {
   "display_name": "py310torch",
   "language": "python",
   "name": "python3"
  },
  "language_info": {
   "codemirror_mode": {
    "name": "ipython",
    "version": 3
   },
   "file_extension": ".py",
   "mimetype": "text/x-python",
   "name": "python",
   "nbconvert_exporter": "python",
   "pygments_lexer": "ipython3",
   "version": "3.10.5"
  }
 },
 "nbformat": 4,
 "nbformat_minor": 2
}
